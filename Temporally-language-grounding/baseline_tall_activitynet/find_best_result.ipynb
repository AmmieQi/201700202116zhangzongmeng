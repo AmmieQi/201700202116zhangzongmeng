{
 "cells": [
  {
   "cell_type": "code",
   "execution_count": 29,
   "metadata": {},
   "outputs": [],
   "source": [
    "with open('nohup.out','r') as f:\n",
    "    lines = f.readlines()"
   ]
  },
  {
   "cell_type": "code",
   "execution_count": 30,
   "metadata": {},
   "outputs": [],
   "source": [
    "iou1 = [x[:-1].split('; ')[-1] for x in lines if len(x)>8 and x[:8]==' IoU=0.1']\n",
    "iou3 = [x[:-1].split('; ')[-1] for x in lines if len(x)>8 and x[:8]==' IoU=0.3']\n",
    "iou5 = [x[:-1].split('; ')[-1] for x in lines if len(x)>8 and x[:8]==' IoU=0.5']\n",
    "iou7 = [x[:-1].split('; ')[-1] for x in lines if len(x)>8 and x[:8]==' IoU=0.7']"
   ]
  },
  {
   "cell_type": "code",
   "execution_count": 31,
   "metadata": {},
   "outputs": [],
   "source": [
    "iou1_num = [float(x.split()[-1]) for x in iou1]\n",
    "iou3_num = [float(x.split()[-1]) for x in iou3]\n",
    "iou5_num = [float(x.split()[-1]) for x in iou5]\n",
    "iou7_num = [float(x.split()[-1]) for x in iou7]"
   ]
  },
  {
   "cell_type": "code",
   "execution_count": 32,
   "metadata": {
    "scrolled": true
   },
   "outputs": [
    {
     "name": "stdout",
     "output_type": "stream",
     "text": [
      "0.3630391316766638 5\n",
      "0.22285061411025422 5\n",
      "0.12105112824907169 5\n",
      "0.04558697514995715 5\n"
     ]
    }
   ],
   "source": [
    "print(max(iou1_num), iou1_num.index(max(iou1_num)))\n",
    "print(max(iou3_num), iou3_num.index(max(iou3_num)))\n",
    "print(max(iou5_num), iou5_num.index(max(iou5_num)))\n",
    "print(max(iou7_num), iou7_num.index(max(iou7_num)))"
   ]
  },
  {
   "cell_type": "code",
   "execution_count": 33,
   "metadata": {},
   "outputs": [
    {
     "data": {
      "text/plain": [
       "[0.10934018851756641,\n",
       " 0.11625249928591831,\n",
       " 0.11488146243930306,\n",
       " 0.11053984575835475,\n",
       " 0.11208226221079691,\n",
       " 0.12105112824907169,\n",
       " 0.1133390459868609,\n",
       " 0.1099685804055984,\n",
       " 0.11053984575835475,\n",
       " 0.10951156812339331]"
      ]
     },
     "execution_count": 33,
     "metadata": {},
     "output_type": "execute_result"
    }
   ],
   "source": [
    "iou5_num"
   ]
  },
  {
   "cell_type": "code",
   "execution_count": null,
   "metadata": {},
   "outputs": [],
   "source": []
  }
 ],
 "metadata": {
  "kernelspec": {
   "display_name": "Python 3",
   "language": "python",
   "name": "python3"
  },
  "language_info": {
   "codemirror_mode": {
    "name": "ipython",
    "version": 3
   },
   "file_extension": ".py",
   "mimetype": "text/x-python",
   "name": "python",
   "nbconvert_exporter": "python",
   "pygments_lexer": "ipython3",
   "version": "3.7.3"
  }
 },
 "nbformat": 4,
 "nbformat_minor": 2
}
